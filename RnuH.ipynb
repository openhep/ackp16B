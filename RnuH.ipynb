{
 "cells": [
  {
   "cell_type": "markdown",
   "metadata": {},
   "source": [
    "<center><b><font size=\"5\">Extended Higgs sector in radiative neutrino mass models</font></b></center>"
   ]
  },
  {
   "cell_type": "markdown",
   "metadata": {
    "heading_collapsed": true
   },
   "source": [
    "## Preamble"
   ]
  },
  {
   "cell_type": "code",
   "execution_count": 1,
   "metadata": {
    "collapsed": false,
    "hidden": true
   },
   "outputs": [],
   "source": [
    "%matplotlib inline\n",
    "import matplotlib.pyplot as plt\n",
    "import matplotlib.ticker as ticker\n",
    "from cycler import cycler\n",
    "import numpy as np\n",
    "import math\n",
    "from sympy import *\n",
    "from scipy.optimize import root, brentq, minimize_scalar\n",
    "from sympy.abc import tau, sigma, x, D, T, Q, Y, N\n",
    "T3, sigmaprime = symbols('T3, sigmaprime')"
   ]
  },
  {
   "cell_type": "code",
   "execution_count": 2,
   "metadata": {
    "collapsed": false,
    "hidden": true
   },
   "outputs": [],
   "source": [
    "# local packages\n",
    "import smgroup\n",
    "from constants import *\n",
    "smgroup.GUTU1 = False  # we don't work here with GUT-unified value for alpha_1"
   ]
  },
  {
   "cell_type": "code",
   "execution_count": 3,
   "metadata": {
    "collapsed": true,
    "hidden": true
   },
   "outputs": [],
   "source": [
    "mHset = [400, 700, 1000]  # we consider these options for Higgs partner"
   ]
  },
  {
   "cell_type": "markdown",
   "metadata": {
    "heading_collapsed": true
   },
   "source": [
    "## Decay of generic scalar $H \\to VV$ to pair of gauge bosons"
   ]
  },
  {
   "cell_type": "markdown",
   "metadata": {
    "heading_collapsed": true,
    "hidden": true
   },
   "source": [
    "### Effective $g_{HVV}$ couplings  and $R_{VV}=\\Gamma(H\\to VV)/\\Gamma(H\\to\\gamma\\gamma)$ ratios"
   ]
  },
  {
   "cell_type": "code",
   "execution_count": 4,
   "metadata": {
    "collapsed": true,
    "hidden": true
   },
   "outputs": [],
   "source": [
    "def VVfact(S1, S2, S3):\n",
    "    \"\"\"Return dict with part of effective g_VV coupling for H->VV loop decay.\n",
    "    \n",
    "    It is the factor in curly braces in g_HVV expressions in the paper. \n",
    "    Phase space factors for identical particles accounted for here.\n",
    "    S1, S2, S3 -- quadratic Dynkin indices of SM gauge groups\n",
    "    \n",
    "    \"\"\"\n",
    "    gg = S1 + S2\n",
    "    GG = (2*S3)*(alphas/alpha)*sqrt(Kfactor)\n",
    "    ZZ = (cw2/sw2)*S2 + (sw2/cw2)*S1\n",
    "    Zg = sqrt(2)*( (cw/sw)*S2 - (sw/cw)*S1 )\n",
    "    WW = sqrt(2) * S2 / sw2\n",
    "    return {'gg':gg, 'GG':GG, 'ZZ':ZZ, 'Zg':Zg, 'WW':WW}\n",
    "\n",
    "\n",
    "def VVfactW(D=7, Y=0, real=True, wght=False):\n",
    "    \"\"\"Return dict with part of effective g_VV coupling for H->VV loop decay due to additional scalar SM irrep.\n",
    "    \n",
    "    Phase space factors for identical particles accounted for here.\n",
    "    D - dimension of additional scalar irrep\n",
    "    Y - hypercharge of additional scalar irrep\n",
    "    real - is the BSM scalar irrep real?\n",
    "    wght --- T3-weight factor entering sum over multiplet\n",
    "    \n",
    "    \"\"\"\n",
    "    r, wNC, wCC = (1, 1, 1)\n",
    "    if real:\n",
    "        r = 2\n",
    "    if wght:\n",
    "        # Weights for CKP model quintuplet scalars which don't\n",
    "        # couple universally to H\n",
    "        wNC = (2-T3)/4\n",
    "        wCC = (3-2*T3)/8  # average of (2-T3)/4 and (1-T3)/4\n",
    "    T = (D-S(1))/2  # weak isospin\n",
    "    gg = summation((wNC*Q**2).subs(Q,T3+Y/2).evalf(), (T3, -T, T))/r\n",
    "    GG = 0\n",
    "    ZZ = summation((wNC*(T3-sw2*Q)**2).subs(Q,T3+Y/2).evalf(), (T3, -T, T))/sw2/cw2/r\n",
    "    Zg = sqrt(2)*summation((wNC*Q*(T3-sw2*Q)).subs(Q,T3+Y/2).evalf(), (T3, -T, T))/sw/cw/r\n",
    "    WW = sqrt(2) * summation((wCC*(T-T3)*(T+T3+1)/2).evalf(), (T3, -T, T))/sw2/r\n",
    "    return {'gg':gg, 'GG':GG, 'ZZ':ZZ, 'Zg':Zg, 'WW':WW}"
   ]
  },
  {
   "cell_type": "code",
   "execution_count": 5,
   "metadata": {
    "collapsed": false,
    "hidden": true
   },
   "outputs": [],
   "source": [
    "def RVV(reps, prt=False):\n",
    "    \"\"\"Ratios of widths for H -> VV={GG, Zg, ZZ, WW} w.r.t. H->gamma-gamma.\n",
    "    \n",
    "    reps -- specified as in smgroup package\n",
    "     prt -- besides returning, print out formatted result\n",
    "    \n",
    "    \"\"\"\n",
    "    VVs = VVfact(*smgroup.SMDynkin(reps))\n",
    "    gg = VVs['gg']\n",
    "    RGG = float((VVs['GG']/gg)**2)\n",
    "    RZg = float((VVs['Zg']/gg)**2)\n",
    "    RZZ = float((VVs['ZZ']/gg)**2)\n",
    "    RWW = float((VVs['WW']/gg)**2)\n",
    "    if prt:\n",
    "        print(\"RGG = {:.3f}, RZg = {:.3f},  RZZ = {:.3f},   RWW  = {:.3f}\".format(RGG,\n",
    "            RZg, RZZ , RWW)  )\n",
    "    return RGG, RZg, RZZ, RWW"
   ]
  },
  {
   "cell_type": "code",
   "execution_count": 6,
   "metadata": {
    "collapsed": false,
    "hidden": true
   },
   "outputs": [
    {
     "name": "stdout",
     "output_type": "stream",
     "text": [
      "RGG = 0.000, RZg = 6.547,  RZZ = 10.716,   RWW  = 36.526\n"
     ]
    }
   ],
   "source": [
    "# Check 1\n",
    "res = RVV([smgroup.RealScalar(1,7,0)], prt=True)"
   ]
  },
  {
   "cell_type": "markdown",
   "metadata": {
    "hidden": true
   },
   "source": [
    "This agrees with table  below Fig. 4 of Strumia's [arXiv:1605.09401](http://www.arXiv.org/pdf/1605.09401), which has RZg=7, RZZ=12, RWW=40. We can reproduce second row of his table with some SU(2) singlet:"
   ]
  },
  {
   "cell_type": "code",
   "execution_count": 7,
   "metadata": {
    "collapsed": false,
    "hidden": true
   },
   "outputs": [
    {
     "name": "stdout",
     "output_type": "stream",
     "text": [
      "RGG = 0.000, RZg = 0.611,  RZZ = 0.093,   RWW  = 0.000\n"
     ]
    }
   ],
   "source": [
    "# Check 2\n",
    "res = RVV([smgroup.ComplexScalar(1,1,-1)], prt=True)"
   ]
  },
  {
   "cell_type": "markdown",
   "metadata": {
    "heading_collapsed": true,
    "hidden": true
   },
   "source": [
    "### Expressions for $h\\to VV$ and $H\\to VV$ partial widths"
   ]
  },
  {
   "cell_type": "markdown",
   "metadata": {
    "hidden": true
   },
   "source": [
    "Standard textbook formulas for SM Higgs decay to two photons:\n",
    "\n",
    "$$\\Gamma(h\\to\\gamma\\gamma) = B \\left|\\sum_i Q_i^2 A_{i}(\\tau_i) \\right|^2$$\n",
    "$$ B = \\frac{\\alpha^2 g^2 m_h^3}{1024 \\pi^3 m_W^2} = \\frac{G_F \\alpha^2 m_h^3}{\n",
    "128\\sqrt{2} \\pi^3}$$\n",
    "$$\\tau_i = \\frac{4m_i^2}{m_{H}^2} $$\n",
    "$$A_{0}(\\tau) = -\\tau(1-\\tau f(\\tau)) \\to \\frac{1}{3}  \\quad \\text{for} \\quad \\tau\\to\\infty$$\n",
    "$$A_{1/2}(\\tau) = 2\\tau\\big(1+(1-\\tau)f(\\tau)\\big) = 2 + (4 m^2 -m_{H}^2)C_0(0,0,m_{H}^2,m^2,m^2,m^2)$$\n",
    "$$f(\\tau) = \\arcsin^2(\\sqrt{\\frac{1}{\\tau}})  \\quad \\text{for} \\quad \\tau\\ge 1$$\n",
    "$$f(\\tau) = -\\frac{m_H^2}{2} C_0 (0,0,m_H^2; m, m, m) $$"
   ]
  },
  {
   "cell_type": "code",
   "execution_count": 8,
   "metadata": {
    "collapsed": false,
    "hidden": true
   },
   "outputs": [],
   "source": [
    "# Loop functions\n",
    "\n",
    "def f(tau):\n",
    "    try:\n",
    "        return asin(1/sqrt(tau))**2\n",
    "    except RuntimeWarning:\n",
    "        print(tau)\n",
    "        return 0\n",
    "\n",
    "def A0(tau):\n",
    "    return -tau*(1-tau*f(tau))\n",
    "\n",
    "def A1(tau):\n",
    "    return -2-3*tau-3*tau*(2-tau)*f(tau)\n",
    "\n",
    "def A12(tau):\n",
    "    return 2*tau*(1+(1-tau)*f(tau))"
   ]
  },
  {
   "cell_type": "code",
   "execution_count": 9,
   "metadata": {
    "collapsed": false,
    "hidden": true
   },
   "outputs": [],
   "source": [
    "# numpy-approved versions of loop functions\n",
    "fN = lambdify(x, f(x), 'numpy')\n",
    "A0N = lambdify(x, A0(x), 'numpy')\n",
    "A1N = lambdify(x, A1(x), 'numpy')\n",
    "A12N = lambdify(x, A12(x), 'numpy')\n",
    "\n",
    "def tauN(m, mH):\n",
    "    return 4*m**2/mH**2"
   ]
  },
  {
   "cell_type": "code",
   "execution_count": 10,
   "metadata": {
    "collapsed": false,
    "hidden": true
   },
   "outputs": [
    {
     "name": "stdout",
     "output_type": "stream",
     "text": [
      " A0 --> 1/3\n",
      "A12 --> 4/3\n",
      " A1 --> -7\n"
     ]
    }
   ],
   "source": [
    "print(\" A0 --> {}\".format(limit(A0(tau), tau, oo)))\n",
    "print(\"A12 --> {}\".format(limit(A12(tau), tau, oo)))\n",
    "print(\" A1 --> {}\".format(limit(A1(tau), tau, oo)))"
   ]
  },
  {
   "cell_type": "code",
   "execution_count": 11,
   "metadata": {
    "collapsed": false,
    "hidden": true
   },
   "outputs": [
    {
     "data": {
      "text/plain": [
       "0.0280388592343634"
      ]
     },
     "execution_count": 11,
     "metadata": {},
     "output_type": "execute_result"
    }
   ],
   "source": [
    "# Numerical check of the relation of C0 and f(tau):\n",
    "# LoopTools for mH=125, m=375\n",
    "# f(m, MH)_LoopTools = 0.028038859\n",
    "f(tauN(375, 125))"
   ]
  },
  {
   "cell_type": "markdown",
   "metadata": {
    "hidden": true
   },
   "source": [
    "SM $h(125)\\to\\gamma\\gamma$ width in GeV (just W and top contributions)"
   ]
  },
  {
   "cell_type": "code",
   "execution_count": 12,
   "metadata": {
    "collapsed": false,
    "hidden": true
   },
   "outputs": [
    {
     "data": {
      "text/plain": [
       "1.00329023145110e-5"
      ]
     },
     "execution_count": 12,
     "metadata": {},
     "output_type": "execute_result"
    }
   ],
   "source": [
    "Bh = (GF * alpha**2 * mh**3)/(128 * sqrt(2) * pi**3).evalf()\n",
    "Bh * (A1N(tauN(mW,mh)) + 3*(2/3)**2*A12N(tauN(mt,mh)))**2"
   ]
  },
  {
   "cell_type": "markdown",
   "metadata": {
    "hidden": true
   },
   "source": [
    "This is about right. (2HDMC gives 0.83e-5 GeV). "
   ]
  },
  {
   "cell_type": "markdown",
   "metadata": {
    "hidden": true
   },
   "source": [
    "Now we define $H\\to VV$ decay widths expressions for generic BSM and separately for ČKP model."
   ]
  },
  {
   "cell_type": "code",
   "execution_count": 13,
   "metadata": {
    "collapsed": false,
    "hidden": true
   },
   "outputs": [],
   "source": [
    "def GAMHVV(VV='gg', \n",
    "           BSMfermions=[], BSMscalars=[], gHFF=v, mF=400, gHSS=v, mS=400, mH=750):\n",
    "    \"\"\"Return H->VV (pair of gauge bosons) decay width (generic BSM model)\n",
    "    \n",
    "    BSMreps -- specification as in smgroup package\n",
    "       gHFF -- universal coupling of H to BSM fermions\n",
    "         mF -- mass of loop fermions\n",
    "       gHSS -- universal coupling of H to BSM scalars\n",
    "         mS -- mass of loop scalars\n",
    "         mH -- mass of decaying H\n",
    "    \n",
    "    \"\"\"\n",
    "    B = float((alpha**2 * mH**3)/(1024 * pi**3).evalf())\n",
    "    amp = 0\n",
    "    if BSMfermions:\n",
    "        VVf = VVfact(*smgroup.SMDynkin(BSMfermions))[VV]\n",
    "        amp += - (2*gHFF/mF)*VVf*A12N(tauN(mF, mH))\n",
    "    if BSMscalars:\n",
    "        VVs = VVfact(*smgroup.SMDynkin(BSMscalars))[VV]  \n",
    "        amp += - (gHSS/mS**2)*VVs*A0N(tauN(mS, mH))\n",
    "    return B * amp**2"
   ]
  },
  {
   "cell_type": "code",
   "execution_count": 14,
   "metadata": {
    "collapsed": false,
    "hidden": true
   },
   "outputs": [],
   "source": [
    "def GAMHckp(VV='gg', tau=1, sig=1, sigpri=1, mchi=400, mphi=400, mH=750):\n",
    "    \"\"\"Decay width of scalar H to pair of gauge bosons (CKP model)\"\"\"\n",
    "    B = float((alpha**2 * mH**3)/(1024 * pi**3).evalf())\n",
    "    VVtau = VVfactW(D=7, Y=0, real=True)[VV]\n",
    "    VVsig = VVfactW(D=5, Y=-2, real=False)[VV]\n",
    "    VVsigpri = VVfactW(D=5, Y=-2, real=False, wght=True)[VV]\n",
    "    amp = tau*v*VVtau/mchi**2 * A0N(tauN(mchi, mH))\n",
    "    amp += (sig*v*VVsig/mphi**2 + sigpri*v*VVsigpri/mphi**2) * A0N(tauN(mphi, mH))\n",
    "    return B * amp**2"
   ]
  },
  {
   "cell_type": "code",
   "execution_count": 15,
   "metadata": {
    "collapsed": false,
    "hidden": true
   },
   "outputs": [
    {
     "data": {
      "text/plain": [
       "(0.00198329071986041, 0.0353740237419684)"
      ]
     },
     "execution_count": 15,
     "metadata": {},
     "output_type": "execute_result"
    }
   ],
   "source": [
    "GAMHckp('gg'), GAMHckp('WW')"
   ]
  },
  {
   "cell_type": "markdown",
   "metadata": {
    "hidden": true
   },
   "source": [
    "These numbers (0.00198, 0.0354) agree with my older notebook used for initial plots. Another check: CKP model widths with $\\sigma'=0$ (i.e. septuplet plus universal quintuplet contributions) can also be calculated with generic function ``GAMHVV``."
   ]
  },
  {
   "cell_type": "code",
   "execution_count": 16,
   "metadata": {
    "collapsed": false,
    "hidden": true
   },
   "outputs": [
    {
     "data": {
      "text/plain": [
       "[0.000968470022007610,\n",
       " 0.00380749333876153,\n",
       " 0.00738691723814960,\n",
       " 0.0242276310052007]"
      ]
     },
     "execution_count": 16,
     "metadata": {},
     "output_type": "execute_result"
    }
   ],
   "source": [
    "[GAMHckp(VV, sigpri=0) for VV in ['gg', 'Zg', 'ZZ', 'WW']]"
   ]
  },
  {
   "cell_type": "code",
   "execution_count": 17,
   "metadata": {
    "collapsed": false,
    "hidden": true
   },
   "outputs": [
    {
     "data": {
      "text/plain": [
       "[0.000968470022007610,\n",
       " 0.00380749333876153,\n",
       " 0.00738691723814960,\n",
       " 0.0242276310052007]"
      ]
     },
     "execution_count": 17,
     "metadata": {},
     "output_type": "execute_result"
    }
   ],
   "source": [
    "[GAMHVV(VV, BSMscalars=[smgroup.RealScalar(1,7,0), smgroup.ComplexScalar(1,5,-2)], gHSS=v) for VV in ['gg', 'Zg', 'ZZ', 'WW']]"
   ]
  },
  {
   "cell_type": "markdown",
   "metadata": {
    "heading_collapsed": true
   },
   "source": [
    "## $\\Gamma(H\\to \\gamma \\gamma)$ and total $\\Gamma_H$ in two models"
   ]
  },
  {
   "cell_type": "markdown",
   "metadata": {
    "heading_collapsed": true,
    "hidden": true
   },
   "source": [
    "### One-loop neutrino mass model (BPR)"
   ]
  },
  {
   "cell_type": "markdown",
   "metadata": {
    "hidden": true
   },
   "source": [
    "Running in the loop for $H\\to \\gamma\\gamma$, we have **one BSM Dirac doublet** $E$ with $Y=-1$ (times the number of generations, of course)"
   ]
  },
  {
   "cell_type": "code",
   "execution_count": 18,
   "metadata": {
    "collapsed": false,
    "hidden": true
   },
   "outputs": [
    {
     "data": {
      "text/plain": [
       "(1/2, 1/2, 0)"
      ]
     },
     "execution_count": 18,
     "metadata": {},
     "output_type": "execute_result"
    }
   ],
   "source": [
    "bpr = [smgroup.Dirac(1,2,-1)]\n",
    "smgroup.SMDynkin(bpr)"
   ]
  },
  {
   "cell_type": "code",
   "execution_count": 19,
   "metadata": {
    "collapsed": false,
    "hidden": true
   },
   "outputs": [
    {
     "name": "stdout",
     "output_type": "stream",
     "text": [
      "RGG = 0.000, RZg = 0.789,  RZZ = 3.202,   RWW  = 9.131\n"
     ]
    }
   ],
   "source": [
    "# RVV = BR(H->VV)/BR(H->gamma gamma)\n",
    "RGGbpr, RZgbpr, RZZbpr, RWWbpr = RVV(bpr, prt=True)"
   ]
  },
  {
   "cell_type": "markdown",
   "metadata": {
    "collapsed": true,
    "hidden": true
   },
   "source": [
    "It is assumed that there are no other important decay channels so BR($H\\to\\gamma\\gamma$) is"
   ]
  },
  {
   "cell_type": "code",
   "execution_count": 20,
   "metadata": {
    "collapsed": false,
    "hidden": true
   },
   "outputs": [
    {
     "data": {
      "text/plain": [
       "0.0708054803374501"
      ]
     },
     "execution_count": 20,
     "metadata": {},
     "output_type": "execute_result"
    }
   ],
   "source": [
    "# Branching ratio to gamma gamma:\n",
    "BrBPRgg = GAMHVV('gg', BSMfermions=bpr)/(GAMHVV('gg', BSMfermions=bpr)+GAMHVV('Zg', BSMfermions=bpr)+GAMHVV('ZZ', BSMfermions=bpr)+GAMHVV('WW', BSMfermions=bpr))\n",
    "BrBPRgg"
   ]
  },
  {
   "cell_type": "code",
   "execution_count": 21,
   "metadata": {
    "collapsed": false,
    "hidden": true
   },
   "outputs": [
    {
     "data": {
      "text/plain": [
       "array([0.646554535917982, 0.0559004771903842, 0.226739506554183], dtype=object)"
      ]
     },
     "execution_count": 21,
     "metadata": {},
     "output_type": "execute_result"
    }
   ],
   "source": [
    "# Branching ratios to other channels\n",
    "BrBPRgg * np.array([RWWbpr, RZgbpr, RZZbpr])"
   ]
  },
  {
   "cell_type": "markdown",
   "metadata": {
    "hidden": true
   },
   "source": [
    "Note that this BR doesn't depends on masses and couplings of BSM particles:"
   ]
  },
  {
   "cell_type": "code",
   "execution_count": 22,
   "metadata": {
    "collapsed": false,
    "hidden": true
   },
   "outputs": [
    {
     "data": {
      "text/plain": [
       "0.0708054803374501"
      ]
     },
     "execution_count": 22,
     "metadata": {},
     "output_type": "execute_result"
    }
   ],
   "source": [
    "GAMHVV('gg', BSMfermions=bpr, gHFF=191, mF=373, mH=200)/(GAMHVV('gg', BSMfermions=bpr, gHFF=191, mF=373, mH=200)+GAMHVV('Zg', BSMfermions=bpr, gHFF=191, mF=373, mH=200)+GAMHVV('ZZ', BSMfermions=bpr, gHFF=191, mF=373, mH=200)+GAMHVV('WW', BSMfermions=bpr, gHFF=191, mF=373, mH=200))"
   ]
  },
  {
   "cell_type": "code",
   "execution_count": 23,
   "metadata": {
    "collapsed": false,
    "hidden": true
   },
   "outputs": [
    {
     "name": "stdout",
     "output_type": "stream",
     "text": [
      "GAM(mH = 400 GeV) = 1.7 GeV, GAM/mH = 0.4%\n",
      "GAM(mH = 700 GeV) = 3.0 GeV, GAM/mH = 0.4%\n",
      "GAM(mH = 1000 GeV) = 4.4 GeV, GAM/mH = 0.4%\n"
     ]
    }
   ],
   "source": [
    "# Total width of H\n",
    "for mH in mHset:\n",
    "    gHFF = 50 # typical lambda\n",
    "    mF = mH/2  # loop fermion mass\n",
    "    TOT = GAMHVV('gg', BSMfermions=bpr, gHFF=gHFF, mF=mF, mH=mH)+GAMHVV('Zg', BSMfermions=bpr, gHFF=gHFF, mF=mF, mH=mH)+GAMHVV('ZZ', BSMfermions=bpr, gHFF=gHFF, mF=mF, mH=mH)+GAMHVV('WW', BSMfermions=bpr, gHFF=gHFF, mF=mF, mH=mH)\n",
    "    print('GAM(mH = {} GeV) = {:.2} GeV, GAM/mH = {:.1}%'.format(mH, TOT, TOT/mH*100))"
   ]
  },
  {
   "cell_type": "markdown",
   "metadata": {
    "hidden": true
   },
   "source": [
    "So we can take narrow-width approximation here."
   ]
  },
  {
   "cell_type": "markdown",
   "metadata": {
    "heading_collapsed": true,
    "hidden": true
   },
   "source": [
    "### Three-loop neutrino mass model (ČKP)"
   ]
  },
  {
   "cell_type": "code",
   "execution_count": 24,
   "metadata": {
    "collapsed": false,
    "hidden": true
   },
   "outputs": [
    {
     "name": "stdout",
     "output_type": "stream",
     "text": [
      "14*tau\n",
      "15.0*sigma\n",
      "12.5*sigmaprime\n"
     ]
    }
   ],
   "source": [
    "# Factors relevant for H-->gamma gamma\n",
    "sigmaprime = symbols('sigmaprime')\n",
    "print(tau*VVfactW(D=7, Y=0, real=True)['gg'])\n",
    "print(sigma*VVfactW(D=5, Y=-2, real=False)['gg'])\n",
    "print(sigmaprime*VVfactW(D=5, Y=-2, real=False, wght=True)['gg'])"
   ]
  },
  {
   "cell_type": "code",
   "execution_count": 25,
   "metadata": {
    "collapsed": false,
    "hidden": true
   },
   "outputs": [
    {
     "name": "stdout",
     "output_type": "stream",
     "text": [
      "14.0*tau\n",
      "10.0*sigma\n",
      "5.0*sigmaprime\n"
     ]
    }
   ],
   "source": [
    "# Factors relevant for H--> W+ W-  (with sqrt(2)/sw2 factor extracted)\n",
    "print((tau*VVfactW(D=7, Y=0, real=True)['WW']*sw2/sqrt(2)).evalf())\n",
    "print((sigma*VVfactW(D=5, Y=-2, real=False)['WW']*sw2/sqrt(2)).evalf())\n",
    "print((sigmaprime*VVfactW(D=5, Y=-2, real=False, wght=True)['WW']*sw2/sqrt(2)).evalf())"
   ]
  },
  {
   "cell_type": "markdown",
   "metadata": {
    "hidden": true
   },
   "source": [
    "One possible check is the known fact that for Y=0 model ratio of WW to $\\gamma\\gamma$ decay widths is $2/s_{W}^4=36.5$. We have such model for $\\sigma=\\sigma'=0$."
   ]
  },
  {
   "cell_type": "code",
   "execution_count": 26,
   "metadata": {
    "collapsed": false,
    "hidden": true
   },
   "outputs": [
    {
     "data": {
      "text/plain": [
       "36.5256775513186"
      ]
     },
     "execution_count": 26,
     "metadata": {},
     "output_type": "execute_result"
    }
   ],
   "source": [
    "GAMHckp('WW', sig=0, sigpri=0)/GAMHckp('gg', sig=0, sigpri=0)"
   ]
  },
  {
   "cell_type": "code",
   "execution_count": 27,
   "metadata": {
    "collapsed": false,
    "hidden": true
   },
   "outputs": [
    {
     "data": {
      "text/plain": [
       "(3.07584023022985, 4.93832776839717, 17.8360254438432)"
      ]
     },
     "execution_count": 27,
     "metadata": {},
     "output_type": "execute_result"
    }
   ],
   "source": [
    "# Final ratios to gamma gamma channel (RVV) for tau=sig=sigpri\n",
    "GAMHckp('Zg')/GAMHckp('gg'), GAMHckp('ZZ')/GAMHckp('gg'), GAMHckp('WW')/GAMHckp('gg')"
   ]
  },
  {
   "cell_type": "markdown",
   "metadata": {
    "hidden": true
   },
   "source": [
    "Unlike BPR model, here we also have posibility of decay to top pair with width:\n",
    "$$\n",
    "\\Gamma(H\\to t\\bar{t})= N_c  \\frac{\\alpha M_H}{8 \\sin^2\\theta_W} \\frac{m_t^2}{m_W^2} \\bigg(1-\\frac{4 m_t^2}{m_H^2}\\bigg)^{3/2}\n",
    "$$"
   ]
  },
  {
   "cell_type": "code",
   "execution_count": 28,
   "metadata": {
    "collapsed": false,
    "hidden": true
   },
   "outputs": [
    {
     "name": "stdout",
     "output_type": "stream",
     "text": [
      "GAMHtt (mH=400 GeV) = 2.9247546742763135 GeV\n",
      "GAMHtt (mH=700 GeV) = 27.03644451950882 GeV\n",
      "GAMHtt (mH=1000 GeV) = 48.61362232007912 GeV\n"
     ]
    }
   ],
   "source": [
    "# Width for H --> t tbar\n",
    "def GAMHtt(mH):\n",
    "    return 3*(1/126.5)*mH*mt**2/(8*sw2*mW**2)*(1-tauN(mt, mH))**(3/2)\n",
    "\n",
    "for mH in mHset:\n",
    "    print(\"GAMHtt (mH={} GeV) = {} GeV\".format(mH, GAMHtt(mH)))"
   ]
  },
  {
   "cell_type": "code",
   "execution_count": 29,
   "metadata": {
    "collapsed": false,
    "hidden": true
   },
   "outputs": [],
   "source": [
    "def GAMTOTckp(tau, sig, sigpri, mchi, mphi, mH):\n",
    "    \"\"\"Total width of H in CKP model.\"\"\"\n",
    "    WW = GAMHckp('WW', tau, sig, sigpri, mchi, mphi, mH)\n",
    "    ZZ = GAMHckp('ZZ', tau, sig, sigpri, mchi, mphi, mH)\n",
    "    Zg = GAMHckp('Zg', tau, sig, sigpri, mchi, mphi, mH)\n",
    "    gg = GAMHckp('gg', tau, sig, sigpri, mchi, mphi, mH)\n",
    "    TOT = GAMHtt(mH)+WW+ZZ+Zg+gg\n",
    "    return TOT"
   ]
  },
  {
   "cell_type": "code",
   "execution_count": 30,
   "metadata": {
    "collapsed": false,
    "hidden": true
   },
   "outputs": [],
   "source": [
    "def GAMTOTckpD(lam, mS, mH):\n",
    "    \"\"\"Total width of H in CKP model with degenerate couplings and mases and BR(gg).\"\"\"\n",
    "    WW = GAMHckp('WW', tau=lam, sig=lam, sigpri=lam, mchi=mS, mphi=mS, mH=mH)\n",
    "    ZZ = GAMHckp('ZZ', tau=lam, sig=lam, sigpri=lam, mchi=mS, mphi=mS, mH=mH)\n",
    "    Zg = GAMHckp('Zg', tau=lam, sig=lam, sigpri=lam, mchi=mS, mphi=mS, mH=mH)\n",
    "    gg = GAMHckp('gg', tau=lam, sig=lam, sigpri=lam, mchi=mS, mphi=mS, mH=mH)\n",
    "    TOT = GAMHtt(mH)+WW+ZZ+Zg+gg\n",
    "    return TOT, gg/TOT"
   ]
  },
  {
   "cell_type": "code",
   "execution_count": 31,
   "metadata": {
    "collapsed": false,
    "hidden": true
   },
   "outputs": [
    {
     "name": "stdout",
     "output_type": "stream",
     "text": [
      "mH = 400 GeV, GAMHTOT = 10.3 GeV;  Br(H-->gg) = 0.0267, GAMTOT/mH = 2.6%\n",
      "mH = 700 GeV, GAMHTOT = 31.3 GeV;  Br(H-->gg) = 0.00505, GAMTOT/mH = 4.5%\n",
      "mH = 1000 GeV, GAMHTOT = 51.6 GeV;  Br(H-->gg) = 0.00214, GAMTOT/mH = 5.2%\n"
     ]
    }
   ],
   "source": [
    "# mS = mH/2\n",
    "for mH in mHset:\n",
    "    TOT, Brgg = GAMTOTckpD(4, mH/2, mH)\n",
    "    print( \"mH = {} GeV, GAMHTOT = {:.1f} GeV;  Br(H-->gg) = {:.3}, GAMTOT/mH = {:.2}%\".format(mH, TOT, Brgg, TOT/mH*100) )"
   ]
  },
  {
   "cell_type": "code",
   "execution_count": 32,
   "metadata": {
    "collapsed": false,
    "hidden": true
   },
   "outputs": [
    {
     "data": {
      "text/plain": [
       "(44.0080434579560,\n",
       " 0.256177724518669,\n",
       " 0.0143629378263249,\n",
       " 0.0441781019905003,\n",
       " 0.0709288947035026,\n",
       " 0.614352340961003)"
      ]
     },
     "execution_count": 32,
     "metadata": {},
     "output_type": "execute_result"
    }
   ],
   "source": [
    "def allBRs(lam, mS, mH):\n",
    "    \"\"\"Total width of H in CKP model with degenerate couplings and mases and BR(gg).\"\"\"\n",
    "    WW = GAMHckp('WW', tau=lam, sig=lam, sigpri=lam, mchi=mS, mphi=mS, mH=mH)\n",
    "    ZZ = GAMHckp('ZZ', tau=lam, sig=lam, sigpri=lam, mchi=mS, mphi=mS, mH=mH)\n",
    "    Zg = GAMHckp('Zg', tau=lam, sig=lam, sigpri=lam, mchi=mS, mphi=mS, mH=mH)\n",
    "    gg = GAMHckp('gg', tau=lam, sig=lam, sigpri=lam, mchi=mS, mphi=mS, mH=mH)\n",
    "    TOT = GAMHtt(mH)+WW+ZZ+Zg+gg\n",
    "    return TOT, WW/TOT, gg/TOT, Zg/TOT, ZZ/TOT, GAMHtt(mH)/TOT \n",
    "\n",
    "allBRs(8, 350, 700)"
   ]
  },
  {
   "cell_type": "code",
   "execution_count": 33,
   "metadata": {
    "collapsed": false,
    "hidden": true
   },
   "outputs": [
    {
     "data": {
      "text/plain": [
       "(31.2793442541206,\n",
       " 0.0901064320753200,\n",
       " 0.00505193448837694,\n",
       " 0.0155389433398354,\n",
       " 0.0249481083680752,\n",
       " 0.864354581728393)"
      ]
     },
     "execution_count": 33,
     "metadata": {},
     "output_type": "execute_result"
    }
   ],
   "source": [
    "def allBRs(lam, mS, mH):\n",
    "    \"\"\"Total width of H in CKP model with degenerate couplings and mases and BR(gg).\"\"\"\n",
    "    WW = GAMHckp('WW', tau=lam, sig=lam, sigpri=lam, mchi=mS, mphi=mS, mH=mH)\n",
    "    ZZ = GAMHckp('ZZ', tau=lam, sig=lam, sigpri=lam, mchi=mS, mphi=mS, mH=mH)\n",
    "    Zg = GAMHckp('Zg', tau=lam, sig=lam, sigpri=lam, mchi=mS, mphi=mS, mH=mH)\n",
    "    gg = GAMHckp('gg', tau=lam, sig=lam, sigpri=lam, mchi=mS, mphi=mS, mH=mH)\n",
    "    TOT = GAMHtt(mH)+WW+ZZ+Zg+gg\n",
    "    return TOT, WW/TOT, gg/TOT, Zg/TOT, ZZ/TOT, GAMHtt(mH)/TOT \n",
    "\n",
    "allBRs(4, 350, 700)"
   ]
  },
  {
   "cell_type": "markdown",
   "metadata": {
    "heading_collapsed": true
   },
   "source": [
    "## Production of $H$ and $\\sigma(p p \\to H \\to V V)$"
   ]
  },
  {
   "cell_type": "markdown",
   "metadata": {
    "heading_collapsed": true,
    "hidden": true
   },
   "source": [
    "### Experimental bound on $\\sigma(pp\\to H\\to \\gamma\\gamma)$"
   ]
  },
  {
   "cell_type": "markdown",
   "metadata": {
    "hidden": true
   },
   "source": [
    "This can be read from Fig. 7 of [ATLAS](https://inspirehep.net/record/1480039/files/ATLAS-CONF-2016-059.pdf).\n",
    "For the one-loop model, we can work within narrow-width approximation and we have:\n"
   ]
  },
  {
   "cell_type": "code",
   "execution_count": 34,
   "metadata": {
    "collapsed": true,
    "hidden": true
   },
   "outputs": [],
   "source": [
    "##  mH/GeV -> xs_bound/fb\n",
    "xs13gg_bound_NWA = {400: 1.8, 500: 1., 700: 1.4, 750: 0.62, 800:1, 1000: 0.45}"
   ]
  },
  {
   "cell_type": "markdown",
   "metadata": {
    "hidden": true
   },
   "source": [
    "For three-loop model, where $H$ decays also to $t\\bar{t}$, width of $H$ is large enough that narrow-width approximation is not O.K., so we take the following bounds from ATLAS plot with $\\Gamma_H/m_H = 6\\,\\%$:"
   ]
  },
  {
   "cell_type": "code",
   "execution_count": 35,
   "metadata": {
    "collapsed": true,
    "hidden": true
   },
   "outputs": [],
   "source": [
    "##  mH/GeV -> xs_bound/fb\n",
    "xs13gg_bound_6perc = {400: 3.7, 500: 2.7, 700: 4, 750: 3.1, 800:3, 1000: 1.1}"
   ]
  },
  {
   "cell_type": "markdown",
   "metadata": {
    "heading_collapsed": true,
    "hidden": true
   },
   "source": [
    "### One-loop model: photon fusion"
   ]
  },
  {
   "cell_type": "markdown",
   "metadata": {
    "hidden": true
   },
   "source": [
    "Dominant production is **photon fusion**. Some expressions and values for photon and parton luminosities can be seen in [Franceschini et al.](http://arXiv.org/pdf/1512.04933). But it is not clear how they obtain their value for $C_{\\gamma\\gamma}$. Using some available parton sets which include photon PDFs, one gets wildly different values. "
   ]
  },
  {
   "cell_type": "markdown",
   "metadata": {
    "hidden": true
   },
   "source": [
    "For production via **photon fusion** $pp \\to \\gamma \\gamma \\to H \\to \\gamma \\gamma$ at 13 TeV, [Harland-Lang et al.](http://arXiv.org/abs/1601.07187) have\n",
    "\n",
    "$$ \\sigma = 4.1\\,{\\rm pb}\\, \\left(\\frac{\\Gamma_H}{45\\, {\\rm GeV}}\\right) {\\rm Br}(H\\to\\gamma\\gamma)^2$$\n",
    "\n",
    "while [Csaki et al.](http://arXiv.org/abs/1601.00638) have\n",
    "\n",
    "$$ \\sigma = 10.8 \\,{\\rm pb}\\, \\left(\\frac{\\Gamma_H}{45\\, {\\rm GeV}}\\right) {\\rm Br}(H\\to\\gamma\\gamma)^2$$.\n",
    "\n",
    "They both include elastic and inelastic contributions, the latter also mixed, and in narrow width approximation. We can read values of photon luminosity from Fig.1 of\n",
    "the first reference\n",
    "\n",
    "|  M/GeV   | dL/dM^2  |\n",
    "|  ----    | -----    |  \n",
    "|    400   |  8   pb  | \n",
    "|    500   |  3.5 pb  |\n",
    "|    700   |  1.2 pb  |\n",
    "|    750   |  0.85 pb |\n",
    "|    800   |  0.7 pb  |\n",
    "|   1000   |  0.3 pb  |"
   ]
  },
  {
   "cell_type": "markdown",
   "metadata": {
    "hidden": true
   },
   "source": [
    "The differential luminosity in second column then enters the total cross-section like this\n",
    "$$\n",
    "\\sigma(pp\\to H\\to \\gamma\\gamma) = \\frac{8\\pi^2}{M_H} \\left.\\frac{d\\mathcal{L}^{\\rm inc}_{\\gamma\\gamma}}{dM^2}\\right|_{M=M_H} \\Gamma(H\\to\\gamma\\gamma)\\;  {\\rm Br}(H\\to\\gamma\\gamma)\n",
    "$$"
   ]
  },
  {
   "cell_type": "code",
   "execution_count": 36,
   "metadata": {
    "collapsed": false,
    "hidden": true
   },
   "outputs": [
    {
     "data": {
      "text/plain": [
       "89.4844132365435"
      ]
     },
     "execution_count": 36,
     "metadata": {},
     "output_type": "execute_result"
    }
   ],
   "source": [
    "# M --> Prefactor in Eq (12) of Harland-Lang et al. in fb\n",
    "HLang = {}\n",
    "for M, lum in [(400, 8), (500, 3.5), (700, 1.2), (750, 0.85), (800, 0.7), (1000, 0.3)]:\n",
    "    HLang[M] = 8*np.pi**2*lum/M * 1000\n",
    "HLang[750]   # H-Lang et al. have 91 fb in their Eq. (12)"
   ]
  },
  {
   "cell_type": "markdown",
   "metadata": {
    "hidden": true
   },
   "source": [
    "Allowed coupling of H to loop fermion is constrained by the ATLAS bound on $\\sigma(pp\\to H\\to \\gamma\\gamma)$ which transforms to bound on $\\Gamma_{H\\to\\gamma\\gamma}$ like (note that branching ratio is independent of this coupling)\n",
    "$$\\Gamma_{H\\to\\gamma\\gamma} < \\frac{\\sigma(pp\\to H\\to \\gamma\\gamma)_{\\rm bound}}\n",
    "{\\frac{8\\pi^2}{M_H} \\left.\\frac{d\\mathcal{L}^{\\rm inc}_{\\gamma\\gamma}}{dM_{X}^2}\\right|_{M_X=M_H} {\\rm Br}(H\\to\\gamma\\gamma)}$$\n"
   ]
  },
  {
   "cell_type": "code",
   "execution_count": 37,
   "metadata": {
    "collapsed": true,
    "hidden": true
   },
   "outputs": [],
   "source": [
    "def lam(msig, mH, GAM):\n",
    "    \"\"\"Coupling needed to get given width for H->gamma gamma.\n",
    "    \n",
    "       GAM -- partial decay width H->gamma gamma\n",
    "      msig -- mass of loop fermion (m_E)\n",
    "        mH -- mass of H\n",
    "      \n",
    "    \"\"\"\n",
    "    ss = ( sqrt(256 * pi**3 * GAM / (alpha**2 * mH**3)) ).evalf()\n",
    "    return float(msig * ss / A12N(tauN(msig, mH)))\n",
    "\n",
    "# numpy-approved version of same function\n",
    "lamN = np.frompyfunc(lam, 3, 1)"
   ]
  },
  {
   "cell_type": "code",
   "execution_count": 38,
   "metadata": {
    "collapsed": false,
    "hidden": true
   },
   "outputs": [
    {
     "data": {
      "text/plain": [
       "42.00000000000001"
      ]
     },
     "execution_count": 38,
     "metadata": {},
     "output_type": "execute_result"
    }
   ],
   "source": [
    "# Checking that above inverted formula lambda(sigma) is consistent\n",
    "# with \"master\" formula sigma(lambda):\n",
    "lamN(500, 900, GAMHVV('gg', BSMfermions=bpr, gHFF=42, mF=500, mS=500, mH=900))"
   ]
  },
  {
   "cell_type": "code",
   "execution_count": 39,
   "metadata": {
    "collapsed": false,
    "hidden": true
   },
   "outputs": [],
   "source": [
    "def lam_from_xs(msig, mH=750, dlumi=0.8, xs=1, reps=bpr):\n",
    "    \"\"\"Value of gHFF resulting in xs(pp->H->gg).\"\"\"\n",
    "    # BrBPRgg is fixed at 7%\n",
    "    GAMgg = xs/dlumi/BrBPRgg\n",
    "    return lamN(msig, mH, GAMgg)"
   ]
  },
  {
   "cell_type": "code",
   "execution_count": 40,
   "metadata": {
    "collapsed": true,
    "hidden": true
   },
   "outputs": [],
   "source": [
    "def lamboundBPR(msig, mH):\n",
    "    \"\"\"Bound on BPR model's lambda to violate 13 TeV xs(pp->H->VV) constraint\"\"\"\n",
    "    # BrBPRgg is fixed at 7%\n",
    "    GAMgg = xs13gg_bound_NWA[mH]/HLang[mH]/BrBPRgg\n",
    "    return lamN(msig, mH, GAMgg)"
   ]
  },
  {
   "cell_type": "code",
   "execution_count": 41,
   "metadata": {
    "collapsed": false,
    "hidden": true
   },
   "outputs": [
    {
     "data": {
      "text/plain": [
       "38.30081166700351"
      ]
     },
     "execution_count": 41,
     "metadata": {},
     "output_type": "execute_result"
    }
   ],
   "source": [
    "lamboundBPR(400, 750)"
   ]
  },
  {
   "cell_type": "markdown",
   "metadata": {
    "heading_collapsed": true,
    "hidden": true
   },
   "source": [
    "### Three-loop model: gluon fusion"
   ]
  },
  {
   "cell_type": "markdown",
   "metadata": {
    "hidden": true
   },
   "source": [
    "Higgs production by **gluon-gluon fusion**: 7 and 8 TeV by  [LHC Higgs xs WG](http://arXiv.org/pdf/1307.1347), and 13 TeV by [gluon luminosity ratios](https://twiki.cern.ch/twiki/bin/view/LHCPhysics/CERNYellowReportPageAt1314TeV2014) (13 TeV/8 TeV) \n",
    "\n",
    "| mH/GeV | 7 TeV    |  8 TeV   | 13/8 Glumi | 13 TeV\n",
    "|  ----  | -----    |  ------  | -----      | -----\n",
    "| 125    | 15.13 pb |  19.27 pb|  2.296     | 44.2 pb\n",
    "| 400    | 2.047 pb |   2.92 pb|  3.31      |  9.66 pb\n",
    "| 500    | 870 fb   |   1.28 pb|  3.68      |  4.71 pb\n",
    "| 700    | 147 fb   |  229 fb  |  4.48      |  1.03 pb\n",
    "| 750    |  99 fb   |  157 fb  |  4.693     | 737 fb\n",
    "| 800    |  69 fb   |  110 fb  |  4.92      | 541 fb\n",
    "| 1000   |  19 fb   |   32 fb  |  4.9       | 157 fb\n",
    "\n",
    "and we have e.g. for $M_H = 700 GeV$ in the narrow width approximation\n",
    "\n",
    "$$\\sigma_{\\gamma\\gamma} = 1030 \\, {\\rm fb}\\; Br(H\\to\\gamma\\gamma)$$"
   ]
  },
  {
   "cell_type": "code",
   "execution_count": 42,
   "metadata": {
    "collapsed": true,
    "hidden": true
   },
   "outputs": [],
   "source": [
    "# xs(pp -> GG -> H) at 13 TeV\n",
    "ggF13 = {125: 44200., 400: 9660., 500: 4710., \n",
    "         700: 1030., 750: 737., 800: 541., 1000: 157.}"
   ]
  },
  {
   "cell_type": "code",
   "execution_count": 43,
   "metadata": {
    "collapsed": true,
    "hidden": true
   },
   "outputs": [],
   "source": [
    "def xs13CKP(VV, tau, sig, sigpri, mchi, mphi, mH):\n",
    "    \"\"\"xs(pp --> H --> VV)/fb at 13 TeV in CKP model\"\"\"\n",
    "    TOT = GAMTOTckp(tau, sig, sigpri, mchi, mphi, mH)\n",
    "    BrVV = GAMHckp(VV, tau, sig, sigpri, mchi, mphi, mH)/TOT\n",
    "    # print('GAMH = {:.1f} GeV, Br(H->{}) = {}'.format(TOT, VV, BrVV))\n",
    "    return ggF13[mH] * BrVV"
   ]
  },
  {
   "cell_type": "code",
   "execution_count": 44,
   "metadata": {
    "collapsed": false,
    "hidden": true
   },
   "outputs": [],
   "source": [
    "def fun(VV, tau, sig, mH):\n",
    "    \"\"\"\n",
    "    f(tau)=(xs(tau) - xsbound) \n",
    "    \n",
    "    Zero of this function determines boundary values of tau or sig.\n",
    "    \"\"\"\n",
    "    assert VV == 'gg'  # only diphoton channel bound implemented\n",
    "    mS = mH/2  # loop scalar mass for strongest effect\n",
    "    return xs13CKP(VV, tau=tau, sig=sig, sigpri=sig, mchi=mS, mphi=mS, mH=mH) - xs13gg_bound_6perc[mH]"
   ]
  },
  {
   "cell_type": "code",
   "execution_count": 45,
   "metadata": {
    "collapsed": false,
    "hidden": true
   },
   "outputs": [],
   "source": [
    "def sigboundCKP(VV, tau, mH, cut=30):\n",
    "    \"\"\"Two boundary values of sig=sig' to violate 13 TeV xs(pp->H->VV) constraint\"\"\"\n",
    "    assert VV ==  'gg'  # only diphoton channel bound implemented\n",
    "    # there are two zeros: one in (-cut,min) and another in (min, cut)\n",
    "    mnm = minimize_scalar(lambda s: fun(VV, tau, s, mH)).x  # minimum\n",
    "    lowb = brentq(lambda s: fun(VV, tau, s, mH), -cut, mnm)\n",
    "    highb = brentq(lambda s: fun(VV, tau, s, mH), mnm, cut)\n",
    "    return lowb, highb"
   ]
  },
  {
   "cell_type": "code",
   "execution_count": 46,
   "metadata": {
    "collapsed": false,
    "hidden": true
   },
   "outputs": [],
   "source": [
    "def funm(VV, mchi, mphi, mH):\n",
    "    \"\"\"\n",
    "    f(tau)=(xs(tau) - xsbound) \n",
    "    \n",
    "    Zero of this function determines boundary values of mchi or mphi.\n",
    "    couplings are fixed tau=sig=sigpri=4 !\n",
    "    \"\"\"\n",
    "    assert VV == 'gg' # only diphoton channel bound implemented\n",
    "    return xs13CKP(VV, tau=4, sig=4, sigpri=4, mchi=mchi, mphi=mphi, mH=mH) - xs13gg_bound_6perc[mH]"
   ]
  },
  {
   "cell_type": "code",
   "execution_count": 47,
   "metadata": {
    "collapsed": false,
    "hidden": true
   },
   "outputs": [],
   "source": [
    "def mboundCKP(VV, mchi, mH, init=390, method='hybr'):\n",
    "    assert VV == 'gg'\n",
    "    \"\"\"Boundary value of mphi to violate 13 TeV xs(pp->H->VV) constraint\"\"\"\n",
    "    return root(lambda mphi: funm(VV, mchi, mphi, mH), init, method=method).x[0]"
   ]
  },
  {
   "cell_type": "markdown",
   "metadata": {
    "heading_collapsed": true
   },
   "source": [
    "## Plots"
   ]
  },
  {
   "cell_type": "code",
   "execution_count": 48,
   "metadata": {
    "collapsed": true,
    "hidden": true
   },
   "outputs": [],
   "source": [
    "SAVEPDFS = True"
   ]
  },
  {
   "cell_type": "code",
   "execution_count": 49,
   "metadata": {
    "collapsed": true,
    "hidden": true
   },
   "outputs": [],
   "source": [
    "# Order of line colors and styles\n",
    "plt.rc('axes', prop_cycle=(cycler('color', ['k', 'b', 'r']) +\n",
    "                           cycler('linestyle', [':', '--', '-'])+\n",
    "                           cycler('linewidth', [2, 1, 1])))"
   ]
  },
  {
   "cell_type": "code",
   "execution_count": 50,
   "metadata": {
    "collapsed": false,
    "hidden": true
   },
   "outputs": [],
   "source": [
    "plt.rc('text', usetex=True)                                                             \n",
    "plt.rc('font', family='serif') "
   ]
  },
  {
   "cell_type": "markdown",
   "metadata": {
    "heading_collapsed": true,
    "hidden": true
   },
   "source": [
    "### [Fig. 1a] Enhancement of $h(125)\\to\\gamma\\gamma$ in one-loop BRP model"
   ]
  },
  {
   "cell_type": "markdown",
   "metadata": {
    "hidden": true
   },
   "source": [
    "Enhancement from the lighter of two charged components of triplet scalar (cf. Eq. (10) from Brdar et al.). Limits come from arXiv:1606.02266 Table 13, combined ATLAS+CMS 7 and 8 TeV data."
   ]
  },
  {
   "cell_type": "code",
   "execution_count": 51,
   "metadata": {
    "collapsed": true,
    "hidden": true
   },
   "outputs": [],
   "source": [
    "Rggup = 1.33\n",
    "Rggdn = 0.96"
   ]
  },
  {
   "cell_type": "code",
   "execution_count": 52,
   "metadata": {
    "collapsed": true,
    "hidden": true
   },
   "outputs": [],
   "source": [
    "def Rgg(lam=1, m=375):\n",
    "    \"\"\"Triplet scalar h(125)->gamma gamma enhancement.\"\"\"\n",
    "    SM = A1N(tauN(mW,mh)) + 3*(2/3)**2*A12N(tauN(mt,mh))\n",
    "    BSM = lam * v**2 * A0N(tauN(m,mh)) / (2 * m**2)\n",
    "    return (1 + BSM/SM)**2"
   ]
  },
  {
   "cell_type": "code",
   "execution_count": 53,
   "metadata": {
    "collapsed": false,
    "hidden": true
   },
   "outputs": [
    {
     "data": {
      "image/png": "[encoded data removed]",
      "text/plain": [
       "<matplotlib.figure.Figure at 0x7f93059a2d30>"
      ]
     },
     "metadata": {},
     "output_type": "display_data"
    }
   ],
   "source": [
    "ms = np.linspace(250, 1000)\n",
    "fig, ax = plt.subplots(figsize=(4,4))\n",
    "ax.plot(ms, Rgg(lam=-10, m=ms), 'r--', label=r\"$c_S=-10$\")\n",
    "ax.plot(ms, Rgg(lam=-5, m=ms), 'b-', label=r\"$c_S=-5$\")\n",
    "ax.plot(ms, Rgg(lam=2, m=ms), 'k-', label=r\"$c_S=2$\")\n",
    "ax.plot(ms, Rgg(lam=5, m=ms), 'k:', label=r\"$c_S=5$\")\n",
    "ax.plot(ms, Rgg(lam=10, m=ms), 'g-.', label=r\"$c_S=10$\")\n",
    "#ax.plot(ms, Rgg(lam=20, m=ms), label=r\"$c_S=\\;\\;20$\")\n",
    "ax.set_xlabel(r'$m_S \\;{\\rm [GeV]}$', fontsize=16)\n",
    "ax.set_ylabel(r\"$R_{\\gamma\\gamma}$\", fontsize=16)\n",
    "props = dict(color=\"red\", linestyle=\"-\", linewidth=2)\n",
    "ax.axhline(Rggdn, **props)\n",
    "ax.axhline(Rggup, **props)\n",
    "ax.legend(loc=(0.5, 0.6)).draw_frame(0)\n",
    "plt.tight_layout()\n",
    "if SAVEPDFS:\n",
    "    plt.savefig(\"/home/kkumer/h125gg.pdf\")"
   ]
  },
  {
   "cell_type": "markdown",
   "metadata": {
    "heading_collapsed": true,
    "hidden": true
   },
   "source": [
    "### [Fig 1b] $H\\to\\gamma\\gamma$ in one-loop BRP model"
   ]
  },
  {
   "cell_type": "code",
   "execution_count": 54,
   "metadata": {
    "collapsed": false,
    "hidden": true
   },
   "outputs": [
    {
     "data": {
      "image/png": "[encoded data removed]",
      "text/plain": [
       "<matplotlib.figure.Figure at 0x7f93059a2c50>"
      ]
     },
     "metadata": {},
     "output_type": "display_data"
    }
   ],
   "source": [
    "xmin, xmax = 500, 1200\n",
    "ymin, ymax = 0, 150\n",
    "ms = np.linspace(xmin, xmax)\n",
    "fig, ax = plt.subplots(figsize=(4,4))\n",
    "for mH in mHset:\n",
    "    ms = np.linspace(max(xmin,mH/2), xmax)\n",
    "    lamgg = lamboundBPR(ms, mH).astype(np.float)\n",
    "    lgg, = ax.plot(ms, lamgg, label=r\"$m_H = {}\\,{{\\rm GeV}}$\".format(mH))\n",
    "ax.set_ylabel(r'$\\lambda = g_3\\, \\cos\\theta_0\\, N_E$', fontsize=16)\n",
    "ax.set_xlabel(r'$m_{E}\\:{\\rm [GeV]}$', fontsize=16)\n",
    "ax.xaxis.set_major_locator(ticker.MultipleLocator(100))\n",
    "ax.legend(loc=4).draw_frame(0)\n",
    "ax.set_xlim(xmin, xmax)\n",
    "ax.set_ylim(ymin, ymax)\n",
    "plt.tight_layout()\n",
    "if SAVEPDFS:\n",
    "    plt.savefig(\"/home/kkumer/triplet.pdf\")"
   ]
  },
  {
   "cell_type": "markdown",
   "metadata": {
    "heading_collapsed": true,
    "hidden": true
   },
   "source": [
    "### [Fig 2] $\\Gamma_{H}$ in three-loop ČKP model"
   ]
  },
  {
   "cell_type": "code",
   "execution_count": 55,
   "metadata": {
    "collapsed": false,
    "hidden": true
   },
   "outputs": [
    {
     "data": {
      "image/png": "[encoded data removed]",
      "text/plain": [
       "<matplotlib.figure.Figure at 0x7f9305a173c8>"
      ]
     },
     "metadata": {},
     "output_type": "display_data"
    }
   ],
   "source": [
    "sgma = 4  # = tau\n",
    "resolution = 100\n",
    "xmin, xmax = 200, 700\n",
    "ymin, ymax = 0, 80\n",
    "plt.figure(figsize=(4,4))\n",
    "for mH in mHset:\n",
    "    xs = np.linspace(max(xmin,mH/2),xmax, resolution)\n",
    "    TOT, BR = GAMTOTckpD(sgma, xs, mH)\n",
    "    plt.plot(xs , TOT, label=r\"$m_{{H}} = {}$\".format(mH))\n",
    "plt.ylabel(r'$\\Gamma_H\\;{\\rm [GeV]}$', fontsize=16)\n",
    "plt.xlabel(r'$m_{\\chi}=m_{\\phi}\\;{\\rm [GeV]}$', fontsize=16)\n",
    "plt.annotate(r\"$\\tau=\\sigma=\\sigma' = {}$\".format(sgma), xy=(0.06, 0.88), xycoords='axes fraction', fontsize=12)\n",
    "plt.legend(loc=1).draw_frame(0)\n",
    "plt.xlim(xmin, xmax)\n",
    "fig = plt.ylim(ymin, ymax)\n",
    "plt.tight_layout()\n",
    "if SAVEPDFS:\n",
    "    plt.savefig('/home/kkumer/diphGAMm.pdf')"
   ]
  },
  {
   "cell_type": "code",
   "execution_count": 56,
   "metadata": {
    "collapsed": false,
    "hidden": true
   },
   "outputs": [
    {
     "data": {
      "image/png": "[encoded data removed]",
      "text/plain": [
       "<matplotlib.figure.Figure at 0x7f93059a26d8>"
      ]
     },
     "metadata": {},
     "output_type": "display_data"
    }
   ],
   "source": [
    "xmin, xmax = 0.2, 4.5\n",
    "plt.figure(figsize=(3.7,4))\n",
    "for mH in mHset:\n",
    "    xs = np.linspace(xmin, xmax, 10)\n",
    "    TOT, BR = GAMTOTckpD(xs, mH/2, mH)\n",
    "    plt.plot(xs , TOT, label=r\"$m_{{H}} = {}$\".format(mH))\n",
    "#plt.ylabel(r'$\\sigma(pp\\to H\\to\\gamma\\gamma)\\;{\\rm [fb]}$', fontsize=16)\n",
    "plt.xlabel(r\"$\\tau=\\sigma=\\sigma'$\", fontsize=16)\n",
    "#plt.fill_between(xs, xs_low*np.ones(xs.shape), xs_high*np.ones(xs.shape), facecolor='lightgreen', alpha=0.5)\n",
    "#plt.text(2.5, 8, r'${\\rm ATLAS+CMS}\\; \\gamma\\gamma\\; {\\rm range}$')\n",
    "plt.annotate(r'$m_\\chi = m_\\phi = {m_H}/{2}$', xy=(0.06, 0.88), xycoords='axes fraction', fontsize=12)\n",
    "plt.legend(loc=1).draw_frame(0)\n",
    "#plt.xlim(xmin, xmax)\n",
    "fig = plt.ylim(ymin, ymax)\n",
    "plt.tight_layout()\n",
    "if SAVEPDFS:\n",
    "    plt.savefig('/home/kkumer/diphGAMlam.pdf')"
   ]
  },
  {
   "cell_type": "markdown",
   "metadata": {
    "heading_collapsed": true,
    "hidden": true
   },
   "source": [
    "### [Fig. 3] Allowed mass/coupling parameter ranges for ČKP model"
   ]
  },
  {
   "cell_type": "code",
   "execution_count": 57,
   "metadata": {
    "collapsed": false,
    "hidden": true
   },
   "outputs": [],
   "source": [
    "resolution = 15  # of calculation grid \n",
    "taumax = 7.5\n",
    "sigmax = 4.5\n",
    "xs = np.linspace(-taumax, taumax, resolution)\n",
    "bounds = {}\n",
    "for mH in mHset:\n",
    "    bounds[mH] = np.transpose([sigboundCKP('gg', t, mH) for t in xs])"
   ]
  },
  {
   "cell_type": "code",
   "execution_count": 58,
   "metadata": {
    "collapsed": false,
    "hidden": true
   },
   "outputs": [
    {
     "data": {
      "image/png": "[encoded data removed]",
      "text/plain": [
       "<matplotlib.figure.Figure at 0x7f930588ac50>"
      ]
     },
     "metadata": {},
     "output_type": "display_data"
    }
   ],
   "source": [
    "fig, ax = plt.subplots(figsize=(4.5,4.5))\n",
    "ax.set_xlabel(r'$\\tau$', fontsize=16)\n",
    "ax.set_ylabel(r\"$\\sigma=\\sigma'$\", fontsize=16)\n",
    "props = dict(color=\"green\", linestyle=\"-.\", linewidth=1)\n",
    "ax.axvline(x=0, **props)\n",
    "ax.axhline(y=0, **props)\n",
    "for mH in mHset:\n",
    "    lowb, hib = bounds[mH]\n",
    "    lnL, = plt.plot(xs, lowb, label=r'$m_H = {}\\,{{\\rm GeV}}$'.format(mH))\n",
    "for mH in mHset:\n",
    "    lowb, hib = bounds[mH]\n",
    "    lnL, = plt.plot(xs, hib)\n",
    "# Remove 1000 GeV from legend\n",
    "handles, labels = ax.get_legend_handles_labels()\n",
    "ax.legend(handles[:-1], labels[:-1], loc=(0.53,0.56)).draw_frame(0)\n",
    "plt.xlim(-7.4, 7.4)\n",
    "plt.tight_layout()\n",
    "fig = plt.ylim(-sigmax, sigmax)\n",
    "# Put labels on exclusion lines\n",
    "#label_line(lggL, r\"$\\gamma\\gamma$\", near_x=-12)\n",
    "#label_line(lggH, r\"$\\gamma\\gamma$\", near_x=12)\n",
    "ax.annotate(r'$m_\\chi = m_\\phi = m_H/2$', xy=(0.05, 0.38), xycoords='axes fraction', fontsize=12)\n",
    "\n",
    "if SAVEPDFS:\n",
    "    plt.savefig(\"/home/kkumer/tausig.pdf\")"
   ]
  },
  {
   "cell_type": "markdown",
   "metadata": {
    "hidden": true
   },
   "source": [
    "For $m_H = 750$ GeV, digamma constraint is just in the corner around $m_\\phi \\approx m_\\chi \\approx 350$ GeV, since for lower masses tree-level decay to two scalars opens ..."
   ]
  },
  {
   "cell_type": "code",
   "execution_count": 59,
   "metadata": {
    "collapsed": false,
    "hidden": true
   },
   "outputs": [
    {
     "name": "stdout",
     "output_type": "stream",
     "text": [
      "Bound on digamma xs = 4 GeV\n"
     ]
    },
    {
     "data": {
      "text/plain": [
       "3.47073968599671"
      ]
     },
     "execution_count": 59,
     "metadata": {},
     "output_type": "execute_result"
    }
   ],
   "source": [
    "print('Bound on digamma xs = {} GeV'.format(xs13gg_bound_6perc[700]))\n",
    "xs13CKP('gg', tau=4, sig=4, sigpri=4, mchi=352, mphi=352, mH=700)"
   ]
  },
  {
   "cell_type": "markdown",
   "metadata": {
    "hidden": true
   },
   "source": [
    ".. so we don't plot 700 GeV line. And for $m_H = 100\\,{\\rm GeV}$ there is no diphoton bound at all."
   ]
  },
  {
   "cell_type": "code",
   "execution_count": 60,
   "metadata": {
    "collapsed": false,
    "hidden": true
   },
   "outputs": [],
   "source": [
    "resolution = 20  # of calculation grid \n",
    "xmin = 300\n",
    "xmax = 620\n",
    "mbounds = {}\n",
    "xs = np.linspace(xmin, xmax, resolution)\n",
    "for mH in mHset[:-2]:\n",
    "    mbounds[mH] = [mboundCKP('gg', m, mH, init=mH/2.+10) for m in xs]"
   ]
  },
  {
   "cell_type": "code",
   "execution_count": 61,
   "metadata": {
    "collapsed": false,
    "hidden": true
   },
   "outputs": [
    {
     "data": {
      "image/png": "[encoded data removed]",
      "text/plain": [
       "<matplotlib.figure.Figure at 0x7f93049a7710>"
      ]
     },
     "metadata": {},
     "output_type": "display_data"
    }
   ],
   "source": [
    "fig, ax = plt.subplots(figsize=(4.5,4.5))\n",
    "ax.set_xlabel(r'$m_\\chi \\; {\\rm [GeV]}$', fontsize=16)\n",
    "ax.set_ylabel(r\"$m_\\phi \\; {\\rm [GeV]}$\", fontsize=16)\n",
    "for mH in mHset[:-2]:\n",
    "    xs = np.linspace(xmin, xmax, resolution)\n",
    "    lgg, = ax.plot(xs, mbounds[mH], label=r'$m_H = {}\\,{{\\rm GeV}}$'.format(mH))\n",
    "#handles, labels = ax.get_legend_handles_labels()\n",
    "#ax.legend(handles[:-1], labels[:-1], loc=1).draw_frame(0)\n",
    "ax.legend(loc=1).draw_frame(0)\n",
    "plt.tight_layout()\n",
    "plt.annotate(r\"$\\tau=\\sigma=\\sigma' = 4$\", xy=(0.6, 0.6), xycoords='axes fraction', fontsize=12)\n",
    "plt.xlim(300, 620)\n",
    "fig = plt.ylim(300, 620)\n",
    "if SAVEPDFS:\n",
    "    plt.savefig(\"/home/kkumer/mm.pdf\")"
   ]
  },
  {
   "cell_type": "code",
   "execution_count": null,
   "metadata": {
    "collapsed": true,
    "hidden": true
   },
   "outputs": [],
   "source": []
  }
 ],
 "metadata": {
  "git": {
   "suppress_outputs": false
  },
  "kernelspec": {
   "display_name": "Python 3",
   "language": "python",
   "name": "python3"
  },
  "language_info": {
   "codemirror_mode": {
    "name": "ipython",
    "version": 3
   },
   "file_extension": ".py",
   "mimetype": "text/x-python",
   "name": "python",
   "nbconvert_exporter": "python",
   "pygments_lexer": "ipython3",
   "version": "3.6.0"
  },
  "toc": {
   "toc_cell": false,
   "toc_number_sections": true,
   "toc_section_display": "none",
   "toc_threshold": 6,
   "toc_window_display": false
  },
  "toc_position": {
   "height": "33px",
   "left": "876.375px",
   "right": "20px",
   "top": "120px",
   "width": "153px"
  }
 },
 "nbformat": 4,
 "nbformat_minor": 0
}
